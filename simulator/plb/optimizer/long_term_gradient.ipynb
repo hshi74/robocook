{
 "cells": [
  {
   "cell_type": "code",
   "execution_count": 1,
   "metadata": {
    "collapsed": true
   },
   "outputs": [],
   "source": [
    "%load_ext autoreload\n",
    "%autoreload 2"
   ]
  },
  {
   "cell_type": "code",
   "execution_count": 2,
   "outputs": [
    {
     "name": "stdout",
     "output_type": "stream",
     "text": [
      "[Taichi] mode=release\n",
      "[Taichi] preparing sandbox at /tmp/taichi-520yfvs6\n",
      "[Taichi] version 0.7.14, llvm 10.0.0, commit 58feee37, linux, python 3.7.3\n",
      "[Taichi] Starting on arch=cuda\n",
      "Building primitive\n",
      "action:\n",
      "  dim: 3\n",
      "  scale: (0.01, 0.01, 0.01)\n",
      "color: (0.7, 0.7, 0.7)\n",
      "friction: 0.9\n",
      "init_pos: (0.5757143040494873, 0.5619162002773135, 0.7515980438048129)\n",
      "init_rot: (1.0, 0.0, 0.0, 0.0)\n",
      "lower_bound: (0.0, 0.0, 0.0)\n",
      "radius: 0.03\n",
      "shape: Sphere\n",
      "upper_bound: (1.0, 1.0, 1.0)\n",
      "variations: None\n",
      "Building primitive\n",
      "action:\n",
      "  dim: 3\n",
      "  scale: (0.01, 0.01, 0.01)\n",
      "color: (0.7, 0.7, 0.7)\n",
      "friction: 0.9\n",
      "init_pos: (0.7757143040494873, 0.5619162002773135, 0.7515980438048129)\n",
      "init_rot: (1.0, 0.0, 0.0, 0.0)\n",
      "lower_bound: (0.0, 0.0, 0.0)\n",
      "radius: 0.03\n",
      "shape: Sphere\n",
      "upper_bound: (1.0, 1.0, 1.0)\n",
      "variations: None\n",
      "{'radius': 0.1024534880385289, 'init_pos': (0.6757143040494873, 0.5619162002773135, 0.7515980438048129), 'color': 8323072}\n",
      "Initialize Renderer\n",
      "bake_size: 6  \n",
      "camera_pos: (0.5, 1.2, 4.0)  \n",
      "camera_rot: (0.2, 0)  \n",
      "dx: 0.006666666666666667  \n",
      "image_res: (512, 512)  \n",
      "light_direction: (2.0, 1.0, 0.7)  \n",
      "max_num_particles: 1000000  \n",
      "max_ray_depth: 2  \n",
      "sdf_threshold: 0.20720000000000002  \n",
      "spp: 50  \n",
      "target_res: (64, 64, 64)  \n",
      "use_directional_light: False  \n",
      "use_roulette: False  \n",
      "voxel_res: (168, 168, 168)\n",
      "[Taichi] materializing...\n"
     ]
    }
   ],
   "source": [
    "import plb\n",
    "from plb.envs import make\n",
    "import taichi as ti\n",
    "\n",
    "env = make(\"Move-v1\")\n",
    "\n",
    "env.reset()\n",
    "taichi_env = env.taichi_env"
   ],
   "metadata": {
    "collapsed": false,
    "pycharm": {
     "name": "#%%\n"
    }
   }
  },
  {
   "cell_type": "code",
   "execution_count": 3,
   "outputs": [],
   "source": [
    "def make_copy_and_clear_kernel(sim: plb.engine.mpm_simulator.MPMSimulator):\n",
    "    @ti.kernel\n",
    "    def copy_and_clear(f:ti.i32):\n",
    "        for i in range(sim.n_particles):\n",
    "            sim.x.grad[f, i] = sim.x.grad[0, i]\n",
    "            sim.v.grad[f, i] = sim.v.grad[0, i]\n",
    "            sim.F.grad[f, i] = sim.F.grad[0, i]\n",
    "            sim.C.grad[f, i] = sim.C.grad[0, i]\n",
    "\n",
    "        if ti.static(sim.n_primitive>0):\n",
    "            for i in ti.static(range(sim.n_primitive)):\n",
    "                sim.primitives[i].position.grad[f] = sim.primitives[i].position.grad[0]\n",
    "                sim.primitives[i].rotation.grad[f] = sim.primitives[i].rotation.grad[0]\n",
    "\n",
    "\n",
    "        for s in range(f):\n",
    "            # clear\n",
    "            if ti.static(sim.n_primitive>0):\n",
    "                for i in ti.static(range(sim.n_primitive)):\n",
    "                    for j in ti.static(range(3)):\n",
    "                        sim.primitives[i].position.grad[s][j] = 0\n",
    "                        sim.primitives[i].v.grad[s][j] = 0\n",
    "                        sim.primitives[i].w.grad[s][j] = 0\n",
    "                    for j in ti.static(range(4)):\n",
    "                        sim.primitives[i].rotation.grad[s][j] = 0\n",
    "\n",
    "        for i in range(sim.n_particles):\n",
    "            for s in range(f):\n",
    "                sim.x.grad[s, i] = ti.Vector.zero(sim.dtype, sim.dim)\n",
    "                sim.v.grad[s, i] = ti.Vector.zero(sim.dtype, sim.dim)\n",
    "                sim.F.grad[s, i] = ti.Vector.zero(sim.dtype, sim.dim, sim.dim)\n",
    "                sim.C.grad[s, i] = ti.Vector.zero(sim.dtype, sim.dim, sim.dim)\n",
    "\n",
    "    return copy_and_clear\n",
    "\n",
    "_copy_and_clear = make_copy_and_clear_kernel(taichi_env.simulator)\n",
    "def copy_and_clear(f):\n",
    "    #for s in range(f//taichi_env.simulator.substeps+1):\n",
    "    #    for i in taichi_env.primitives:\n",
    "    #        i.action_buffer.grad[s] = [0, 0, 0]\n",
    "    for i in taichi_env.primitives:\n",
    "        i.action_buffer.grad.fill(0)\n",
    "    _copy_and_clear(f)\n",
    "copy_and_clear(21)"
   ],
   "metadata": {
    "collapsed": false,
    "pycharm": {
     "name": "#%%\n"
    }
   }
  },
  {
   "cell_type": "code",
   "execution_count": 4,
   "outputs": [
    {
     "name": "stdout",
     "output_type": "stream",
     "text": [
      "663.3039895763777\n"
     ]
    }
   ],
   "source": [
    "import taichi as ti\n",
    "import numpy as np\n",
    "from plb.engine.taichi_env import TaichiEnv\n",
    "env.reset()\n",
    "state = taichi_env.get_state()\n",
    "sim_state = state['state']\n",
    "actions = np.random.random(size=(50, 6))*0.01\n",
    "\n",
    "def forward(taichi_env: TaichiEnv, sim_state, action):\n",
    "    taichi_env.set_state(sim_state, 666, False)\n",
    "    with ti.Tape(loss=taichi_env.loss.loss):\n",
    "        for i in range(len(action)):\n",
    "            taichi_env.step(action[i])\n",
    "            loss_info = taichi_env.compute_loss()\n",
    "    loss = taichi_env.loss.loss[None]\n",
    "    return loss, taichi_env.primitives.get_grad(len(action))\n",
    "\n",
    "loss, grad = forward(taichi_env, sim_state, actions)\n",
    "\n",
    "print(loss)"
   ],
   "metadata": {
    "collapsed": false,
    "pycharm": {
     "name": "#%%\n"
    }
   }
  },
  {
   "cell_type": "code",
   "execution_count": 5,
   "outputs": [
    {
     "name": "stdout",
     "output_type": "stream",
     "text": [
      "1.534771548383773e-05\n"
     ]
    }
   ],
   "source": [
    "def forward2(taichi_env: TaichiEnv, init_state, action, T=12, compute_grad=True):\n",
    "    max_timesteps = len(action)\n",
    "    substeps = taichi_env.simulator.substeps\n",
    "\n",
    "    checkpoints = {}\n",
    "    loss = taichi_env.loss.loss\n",
    "    total_loss = 0\n",
    "    taichi_env.set_state(init_state, 666, False) #clear loss..\n",
    "\n",
    "    with ti.Tape(loss=loss):\n",
    "        # clear grad and normal..\n",
    "        pass\n",
    "    for i in range(max_timesteps):\n",
    "        if i % T == 0:\n",
    "            state = init_state if i == 0 else taichi_env.simulator.get_state(T * substeps)\n",
    "            checkpoints[i] = state\n",
    "            total_loss += loss[None]\n",
    "            taichi_env.set_state(checkpoints[i], 666, False) #set_state clears loss\n",
    "        taichi_env.step(action[i])\n",
    "        taichi_env.compute_loss()\n",
    "    total_loss += loss[None]\n",
    "\n",
    "    if compute_grad:\n",
    "        total_loss2 = loss[None]\n",
    "\n",
    "        action_grads = []\n",
    "        last = max_timesteps\n",
    "        for i in range(max_timesteps-1, -1, -1):\n",
    "            f = (i % T) * substeps\n",
    "            taichi_env.loss.compute_loss_kernel.grad(taichi_env.loss, f + substeps)\n",
    "            for s in reversed(range(f, f+substeps)):\n",
    "                taichi_env.simulator.substep_grad(s)\n",
    "            # no gradient for set action..\n",
    "            for p in taichi_env.primitives:\n",
    "                p.set_velocity.grad(i % T, substeps)\n",
    "\n",
    "            if i % T == 0:\n",
    "                action_grads.append(taichi_env.primitives.get_grad(last-i))\n",
    "                last = i\n",
    "\n",
    "                if i > 0:\n",
    "                    start = ((i - 1) // T) * T\n",
    "                    taichi_env.set_state(checkpoints[start], 666, False)\n",
    "                    for s in range(start, i):\n",
    "                        taichi_env.step(action[s])\n",
    "                        taichi_env.compute_loss()\n",
    "\n",
    "                    total_loss2 += loss[None]\n",
    "                    copy_and_clear(T * substeps)\n",
    "\n",
    "    return total_loss, np.concatenate(action_grads[::-1])\n",
    "\n",
    "loss2, grad2 = forward2(taichi_env, sim_state, actions, T=5, compute_grad=True)\n",
    "\n",
    "assert np.allclose(loss, loss2)\n",
    "print(abs(grad -grad2).max())\n",
    "assert abs(grad2 - grad).max() < 1e-4"
   ],
   "metadata": {
    "collapsed": false,
    "pycharm": {
     "name": "#%%\n"
    }
   }
  }
 ],
 "metadata": {
  "kernelspec": {
   "display_name": "Python 3",
   "language": "python",
   "name": "python3"
  },
  "language_info": {
   "codemirror_mode": {
    "name": "ipython",
    "version": 2
   },
   "file_extension": ".py",
   "mimetype": "text/x-python",
   "name": "python",
   "nbconvert_exporter": "python",
   "pygments_lexer": "ipython2",
   "version": "2.7.6"
  }
 },
 "nbformat": 4,
 "nbformat_minor": 0
}